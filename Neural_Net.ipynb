{
 "cells": [
  {
   "cell_type": "code",
   "execution_count": 48,
   "metadata": {},
   "outputs": [],
   "source": [
    "class Neural_Net(object):\n",
    "    \"\"\"docstring for Neural_Net\"\"\"\n",
    "    def __init__(self):\n",
    "        # Defining Hyperparameters\n",
    "        self.inputLayerSize \t= 2\n",
    "        self.outputLayerSize \t= 1\n",
    "        self.hiddenLayerSize \t= 3\n",
    "\n",
    "        # Weights (parameters)\n",
    "        self.w1 = np.random.randn(self.inputLayerSize, self.hiddenLayerSize)\n",
    "        self.w2 = np.random.randn(self.hiddenLayerSize, self.outputLayerSize)\n",
    "\n",
    "    def forward(self, X):\n",
    "        #Propagate inputs through network\n",
    "\n",
    "        self.z2 = np.dot(X, self.w1)\n",
    "        self.a2 = self.sigmoid(self.z2)\n",
    "        #print(self.a2)\n",
    "        self.z3 = np.dot(self.a2, self.w2)\n",
    "        #print(self.z3)\n",
    "        yHat\t= self.sigmoid(self.z3)\n",
    "        return yHat\n",
    "\n",
    "    def sigmoid(self, z):\n",
    "        #Apply sigmoid activation function to scalar, vector, or matrix\n",
    "        return 1/(1+np.exp(-z))\n"
   ]
  },
  {
   "cell_type": "code",
   "execution_count": 49,
   "metadata": {},
   "outputs": [
    {
     "name": "stdout",
     "output_type": "stream",
     "text": [
      "[[ 0.40048469]\n",
      " [ 0.42808635]\n",
      " [ 0.3210797 ]]\n",
      "[[ 0.70564026 -1.10003476 -0.99144728]\n",
      " [ 1.2706662   0.65255396 -0.20565581]]\n",
      "[[-1.77468619]\n",
      " [ 0.94621753]\n",
      " [ 1.31110361]]\n"
     ]
    }
   ],
   "source": [
    "import numpy as np\n",
    "import seaborn as sb\n",
    "\n",
    "x = np.array(([3,5],[5, 1], [10, 2]), dtype=float)\n",
    "y = np.array(([75],[82], [93]), dtype=float)\n",
    "\n",
    "x = x/np.amax(x, axis=0)\n",
    "y = y/100\n",
    "\n",
    "NN = Neural_Net()\n",
    "print(NN.forward(x))\n",
    "print(NN.w1)\n",
    "print(NN.w2)\n"
   ]
  },
  {
   "cell_type": "code",
   "execution_count": 61,
   "metadata": {},
   "outputs": [
    {
     "name": "stdout",
     "output_type": "stream",
     "text": [
      "Training Please wait...\n",
      "1157.8850813196314\n",
      "5.74958824061e-16\n",
      "10559392\n"
     ]
    }
   ],
   "source": [
    "import time\n",
    "\n",
    "weightsToTry = np.linspace(-10,10,1000)\n",
    "cost = np.zeros((5000, 5000))\n",
    "\n",
    "\n",
    "startTime = time.clock()\n",
    "\n",
    "print(\"Training Please wait...\")\n",
    "for i in range(5000):\n",
    "    for j in range(5000):\n",
    "        #NN.w1[0,0] = weightsToTry[i]\n",
    "        #NN.w1[0,1] = weightsToTry[j]\n",
    "        NN.w1 = np.random.uniform(-10,10,[NN.inputLayerSize, NN.hiddenLayerSize]) # taking range of value with 2x3 size\n",
    "        NN.w2 = np.random.uniform(-10,10,[NN.hiddenLayerSize, NN.outputLayerSize]) # taking range of value with 3x1 size\n",
    "        yHat = NN.forward(x)\n",
    "        cost[i,j] = 0.5*(sum(y-yHat)**2)\n",
    "\n",
    "endTime = time.clock()\n",
    "print(endTime - startTime)\n",
    "\n",
    "print(np.amin(cost))\n",
    "print(np.argmin(cost))\n",
    "\n",
    "        "
   ]
  },
  {
   "cell_type": "code",
   "execution_count": 66,
   "metadata": {},
   "outputs": [
    {
     "data": {
      "text/plain": [
       "array([[ 0.02439153],\n",
       "       [ 0.09939044],\n",
       "       [ 0.10411611]])"
      ]
     },
     "execution_count": 66,
     "metadata": {},
     "output_type": "execute_result"
    }
   ],
   "source": [
    "NN.forward(x)"
   ]
  },
  {
   "cell_type": "code",
   "execution_count": 58,
   "metadata": {},
   "outputs": [
    {
     "name": "stdout",
     "output_type": "stream",
     "text": [
      "8.51198517654e-15\n"
     ]
    }
   ],
   "source": [
    "print(cost[515,732])"
   ]
  },
  {
   "cell_type": "code",
   "execution_count": 63,
   "metadata": {},
   "outputs": [
    {
     "name": "stdout",
     "output_type": "stream",
     "text": [
      "[[-3.18698992 -9.43518459  9.7433166 ]\n",
      " [-3.91034618  1.26647382  6.17634633]]\n"
     ]
    }
   ],
   "source": [
    "print(NN.w1)"
   ]
  },
  {
   "cell_type": "code",
   "execution_count": 65,
   "metadata": {},
   "outputs": [
    {
     "name": "stdout",
     "output_type": "stream",
     "text": [
      "[[ 0.56794313]\n",
      " [-8.88355134]\n",
      " [-2.15600359]]\n"
     ]
    }
   ],
   "source": [
    "print(NN.w2)"
   ]
  },
  {
   "cell_type": "code",
   "execution_count": null,
   "metadata": {},
   "outputs": [],
   "source": []
  }
 ],
 "metadata": {
  "kernelspec": {
   "display_name": "Python 3",
   "language": "python",
   "name": "python3"
  },
  "language_info": {
   "codemirror_mode": {
    "name": "ipython",
    "version": 3
   },
   "file_extension": ".py",
   "mimetype": "text/x-python",
   "name": "python",
   "nbconvert_exporter": "python",
   "pygments_lexer": "ipython3",
   "version": "3.6.4"
  }
 },
 "nbformat": 4,
 "nbformat_minor": 2
}
